{
 "cells": [
  {
   "cell_type": "markdown",
   "metadata": {},
   "source": [
    "## Why Web Scraping?\n",
    "\n",
    "Web scraping is used to collect large information from websites. But why does someone have to collect such large data from websites? To know about this, let’s look at the applications of web scraping:\n",
    "\n",
    "Price Comparison: Services such as ParseHub use web scraping to collect data from online shopping websites and use it to compare the prices of products.\n",
    "\n",
    "Email address gathering: Many companies that use email as a medium for marketing, use web scraping to collect email ID and then send bulk emails.\n",
    "\n",
    "Social Media Scraping: Web scraping is used to collect data from Social Media websites such as Twitter to find out what’s trending.\n",
    "\n",
    "Research and Development: Web scraping is used to collect a large set of data (Statistics, General Information, Temperature, etc.) from websites, which are analyzed and used to carry out Surveys or for R&D.\n",
    "\n",
    "Job listings: Details regarding job openings, interviews are collected from different websites and then listed in one place so that it is easily accessible to the user."
   ]
  },
  {
   "cell_type": "markdown",
   "metadata": {},
   "source": [
    "### Find the URL that you want to scrape"
   ]
  },
  {
   "cell_type": "markdown",
   "metadata": {},
   "source": [
    "we are going scrape Flipkart website to extract the Price, Name, and Rating of Laptops. The URL for this page is https://www.flipkart.com/laptops/pr?sid=6bo,b5g&marketplace=FLIPKART"
   ]
  },
  {
   "cell_type": "markdown",
   "metadata": {},
   "source": [
    "Download chdrome web driver https://sites.google.com/a/chromium.org/chromedriver/home"
   ]
  },
  {
   "cell_type": "markdown",
   "metadata": {},
   "source": [
    "### Inspecting the Page"
   ]
  },
  {
   "cell_type": "markdown",
   "metadata": {},
   "source": [
    "The data is usually nested in tags. So, we inspect the page to see, under which tag the data we want to scrape is nested. To inspect the page, just right click on the element and click on “Inspect”.\n",
    "\n",
    "When you click on the “Inspect” tab, you will see a “Browser Inspector Box” open."
   ]
  },
  {
   "cell_type": "markdown",
   "metadata": {},
   "source": [
    "### Find the data you want to extract"
   ]
  },
  {
   "cell_type": "markdown",
   "metadata": {},
   "source": [
    "Let’s extract the Price, Name, and Rating which is nested in the “div” tag respectively."
   ]
  },
  {
   "cell_type": "code",
   "execution_count": 1,
   "metadata": {},
   "outputs": [],
   "source": [
    "#conda install -c anaconda beautiful-soup"
   ]
  },
  {
   "cell_type": "code",
   "execution_count": 2,
   "metadata": {
    "scrolled": true
   },
   "outputs": [],
   "source": [
    "#import all the necessary libraries:\n",
    "\n",
    "from selenium import webdriver\n",
    "from bs4 import BeautifulSoup\n",
    "import pandas as pd"
   ]
  },
  {
   "cell_type": "code",
   "execution_count": 3,
   "metadata": {},
   "outputs": [],
   "source": [
    "import numpy as np"
   ]
  },
  {
   "cell_type": "code",
   "execution_count": 4,
   "metadata": {},
   "outputs": [],
   "source": [
    "#To configure webdriver to use Chrome browser, we have to set the path to chromedriver\n",
    "\n",
    "driver = webdriver.Chrome(\"chromedriver.exe\")\n",
    "#driver = webdriver.Ie(r'IEDriverServer.exe')"
   ]
  },
  {
   "cell_type": "code",
   "execution_count": 5,
   "metadata": {},
   "outputs": [],
   "source": [
    "#open the URL:\n",
    "\n",
    "products = [] #List to store name of the product\n",
    "actual_prices = [] #List to actual price of the product\n",
    "offer_prices = [] #List to offer price of the product\n",
    "prices = []\n",
    "ratings = [] #List to store rating of the product"
   ]
  },
  {
   "cell_type": "code",
   "execution_count": 6,
   "metadata": {},
   "outputs": [],
   "source": [
    "#driver.get(\"https://www.flipkart.com/laptops/~buyback-guarantee-on-laptops-/pr?sid=6bo%2Cb5g&uniq\")\n",
    "driver.get('https://www.flipkart.com/laptops/pr?sid=6bo,b5g&marketplace=FLIPKART')"
   ]
  },
  {
   "cell_type": "markdown",
   "metadata": {},
   "source": [
    "Now that we have written the code to open the URL, it’s time to extract the data from the website. As mentioned earlier, the data we want to extract is nested in <div> tags. So, I will find the div tags with those respective class-names, extract the data and store the data in a variable."
   ]
  },
  {
   "cell_type": "code",
   "execution_count": 7,
   "metadata": {},
   "outputs": [],
   "source": [
    "content = driver.page_source\n",
    "soup = BeautifulSoup(content)\n",
    "\n",
    "    \n",
    "for a in soup.findAll('a',href=True, attrs={'class':'_31qSD5'}):\n",
    "    name=a.find('div', attrs={'class':'_3wU53n'})\n",
    "    price=a.find('div', attrs={'class':'_1vC4OE _2rQ-NK'})\n",
    "    rating=a.find('div', attrs={'class':'hGSR34'})\n",
    "    products.append(name.text)\n",
    "    prices.append(price.text)\n",
    "    try: \n",
    "        ratings.append(rating.text) \n",
    "    except:\n",
    "        ratings.append(np.nan)"
   ]
  },
  {
   "cell_type": "code",
   "execution_count": 8,
   "metadata": {},
   "outputs": [
    {
     "name": "stdout",
     "output_type": "stream",
     "text": [
      "24\n"
     ]
    },
    {
     "data": {
      "text/plain": [
       "['Asus VivoBook S14 Core i7 8th Gen - (8 GB/1 TB HDD/256 GB SSD/Windows 10 Home/2 GB Graphics) S430FN-EB...',\n",
       " 'Apple MacBook Air Core i5 5th Gen - (8 GB/128 GB SSD/Mac OS Sierra) MQD32HN/A A1466',\n",
       " 'HP 14q Core i3 7th Gen - (8 GB/256 GB SSD/Windows 10 Home) 14q-cs0023TU Thin and Light Laptop',\n",
       " 'Lenovo Ideapad 130 Core i3 7th Gen - (4 GB/1 TB HDD/Windows 10 Home) 130-15IKB Laptop',\n",
       " 'Asus VivoBook S14 Core i7 8th Gen - (8 GB/1 TB HDD/256 GB SSD/Windows 10 Home/2 GB Graphics) S430FN-EB...',\n",
       " 'Dell Vostro 3000 Core i3 8th Gen - (4 GB/1 TB HDD/Linux) 3480 Laptop',\n",
       " 'Lenovo Ideapad 130 Core i5 8th Gen - (8 GB/1 TB HDD/Windows 10 Home/2 GB Graphics) 130-15IKB Laptop',\n",
       " 'Acer Nitro 5 Core i7 9th Gen - (8 GB/1 TB HDD/256 GB SSD/Windows 10 Home/4 GB Graphics/NVIDIA Geforce ...',\n",
       " 'Lenovo Ideapad 130 APU Dual Core A6 - (4 GB/1 TB HDD/Windows 10 Home) 130-15AST Laptop',\n",
       " 'HP Pavilion 15-EC Ryzen 5 Quad Core - (8 GB/1 TB HDD/128 GB SSD/Windows 10 Home/4 GB Graphics/NVIDIA G...',\n",
       " 'HP 14q Core i5 8th Gen - (8 GB/1 TB HDD/Windows 10 Home) 14q-cs0017tu Thin and Light Laptop',\n",
       " 'Lenovo Ideapad 330 APU Dual Core A6 - (4 GB/1 TB HDD/DOS) 330-15ast u Laptop',\n",
       " 'HP Pavilion 14-ce Core i5 10th Gen - (8 GB/512 GB SSD/Windows 10 Home) 14-ce3006TU Thin and Light Lapt...',\n",
       " 'HP Pavilion x360 Core i3 8th Gen - (4 GB/256 GB SSD/Windows 10 Home) 14-dh0107TU 2 in 1 Laptop',\n",
       " 'HP DA Core i3 7th Gen - (4 GB/1 TB HDD/Windows 10 Home) 15-DA0410TU Laptop',\n",
       " 'HP 14q APU Dual Core A9 - (4 GB/256 GB SSD/Windows 10 Home) 14q-cy0006AU Thin and Light Laptop',\n",
       " 'Acer Swift 3 Core i5 8th Gen - (8 GB/512 GB SSD/Windows 10 Home/2 GB Graphics) SF314-55G Thin and Ligh...',\n",
       " 'Acer Aspire 5 Core i3 8th Gen - (4 GB/1 TB HDD/Windows 10 Home) A515-52 Laptop',\n",
       " 'Lenovo Ideapad 330 Core i3 7th Gen - (8 GB/1 TB HDD/Windows 10 Home) 330-15IKB Laptop',\n",
       " 'Lenovo Core i7 8th Gen - (8 GB/1 TB HDD/Windows 10 Home/2 GB Graphics) L340-15IWL Laptop',\n",
       " 'Lenovo Ideapad 130 Core i3 7th Gen - (4 GB/1 TB HDD/DOS) 130-15IKB Laptop',\n",
       " 'Lenovo Ideapad L340 Core i5 8th Gen - (8 GB/1 TB HDD/Windows 10 Home) L340-15IWLU Laptop',\n",
       " 'Lenovo Ideapad 330 Core i3 7th Gen - (8 GB/1 TB HDD/Windows 10 Home) 81delenovo ideapad 330-15ikb u La...',\n",
       " 'HP 15q Core i3 7th Gen - (4 GB/1 TB HDD/Windows 10 Home) 15q-ds0007TU Laptop']"
      ]
     },
     "execution_count": 8,
     "metadata": {},
     "output_type": "execute_result"
    }
   ],
   "source": [
    "print(len(products))\n",
    "products"
   ]
  },
  {
   "cell_type": "code",
   "execution_count": 9,
   "metadata": {},
   "outputs": [
    {
     "name": "stdout",
     "output_type": "stream",
     "text": [
      "24\n"
     ]
    },
    {
     "data": {
      "text/plain": [
       "['₹69,990',\n",
       " '₹64,990',\n",
       " '₹32,490',\n",
       " '₹25,990',\n",
       " '₹69,990',\n",
       " '₹26,990',\n",
       " '₹39,990',\n",
       " '₹69,990',\n",
       " '₹19,990',\n",
       " '₹56,990',\n",
       " '₹41,990',\n",
       " '₹18,999',\n",
       " '₹51,990',\n",
       " '₹42,990',\n",
       " '₹28,490',\n",
       " '₹19,990',\n",
       " '₹54,990',\n",
       " '₹28,990',\n",
       " '₹31,490',\n",
       " '₹49,990',\n",
       " '₹23,990',\n",
       " '₹37,990',\n",
       " '₹32,990',\n",
       " '₹31,490']"
      ]
     },
     "execution_count": 9,
     "metadata": {},
     "output_type": "execute_result"
    }
   ],
   "source": [
    "print(len(prices))\n",
    "prices"
   ]
  },
  {
   "cell_type": "code",
   "execution_count": 10,
   "metadata": {},
   "outputs": [
    {
     "name": "stdout",
     "output_type": "stream",
     "text": [
      "24\n"
     ]
    },
    {
     "data": {
      "text/plain": [
       "['4.7',\n",
       " '4.7',\n",
       " '4.3',\n",
       " '4',\n",
       " '4.7',\n",
       " nan,\n",
       " '4.2',\n",
       " '4.6',\n",
       " '3.9',\n",
       " '4.5',\n",
       " '4.3',\n",
       " '3.8',\n",
       " '4.8',\n",
       " '4.5',\n",
       " '4.7',\n",
       " '4.1',\n",
       " '4.6',\n",
       " '3.8',\n",
       " '4.1',\n",
       " '4.1',\n",
       " '4',\n",
       " '4.1',\n",
       " '4.3',\n",
       " '4.1']"
      ]
     },
     "execution_count": 10,
     "metadata": {},
     "output_type": "execute_result"
    }
   ],
   "source": [
    "print(len(ratings))\n",
    "ratings"
   ]
  },
  {
   "cell_type": "code",
   "execution_count": 11,
   "metadata": {},
   "outputs": [],
   "source": [
    "driver.quit()"
   ]
  },
  {
   "cell_type": "markdown",
   "metadata": {},
   "source": [
    "###  Store the data in a required format"
   ]
  },
  {
   "cell_type": "markdown",
   "metadata": {},
   "source": [
    "After extracting the data, you might want to store it in a format. This format varies depending on your requirement. For this example, we will store the extracted data in a CSV (Comma Separated Value) format."
   ]
  },
  {
   "cell_type": "code",
   "execution_count": 12,
   "metadata": {},
   "outputs": [
    {
     "data": {
      "text/html": [
       "<div>\n",
       "<style scoped>\n",
       "    .dataframe tbody tr th:only-of-type {\n",
       "        vertical-align: middle;\n",
       "    }\n",
       "\n",
       "    .dataframe tbody tr th {\n",
       "        vertical-align: top;\n",
       "    }\n",
       "\n",
       "    .dataframe thead th {\n",
       "        text-align: right;\n",
       "    }\n",
       "</style>\n",
       "<table border=\"1\" class=\"dataframe\">\n",
       "  <thead>\n",
       "    <tr style=\"text-align: right;\">\n",
       "      <th></th>\n",
       "      <th>Product Name</th>\n",
       "      <th>Price</th>\n",
       "      <th>Rating</th>\n",
       "    </tr>\n",
       "  </thead>\n",
       "  <tbody>\n",
       "    <tr>\n",
       "      <th>0</th>\n",
       "      <td>Asus VivoBook S14 Core i7 8th Gen - (8 GB/1 TB...</td>\n",
       "      <td>₹69,990</td>\n",
       "      <td>4.7</td>\n",
       "    </tr>\n",
       "    <tr>\n",
       "      <th>1</th>\n",
       "      <td>Apple MacBook Air Core i5 5th Gen - (8 GB/128 ...</td>\n",
       "      <td>₹64,990</td>\n",
       "      <td>4.7</td>\n",
       "    </tr>\n",
       "    <tr>\n",
       "      <th>2</th>\n",
       "      <td>HP 14q Core i3 7th Gen - (8 GB/256 GB SSD/Wind...</td>\n",
       "      <td>₹32,490</td>\n",
       "      <td>4.3</td>\n",
       "    </tr>\n",
       "    <tr>\n",
       "      <th>3</th>\n",
       "      <td>Lenovo Ideapad 130 Core i3 7th Gen - (4 GB/1 T...</td>\n",
       "      <td>₹25,990</td>\n",
       "      <td>4</td>\n",
       "    </tr>\n",
       "    <tr>\n",
       "      <th>4</th>\n",
       "      <td>Asus VivoBook S14 Core i7 8th Gen - (8 GB/1 TB...</td>\n",
       "      <td>₹69,990</td>\n",
       "      <td>4.7</td>\n",
       "    </tr>\n",
       "    <tr>\n",
       "      <th>5</th>\n",
       "      <td>Dell Vostro 3000 Core i3 8th Gen - (4 GB/1 TB ...</td>\n",
       "      <td>₹26,990</td>\n",
       "      <td>NaN</td>\n",
       "    </tr>\n",
       "    <tr>\n",
       "      <th>6</th>\n",
       "      <td>Lenovo Ideapad 130 Core i5 8th Gen - (8 GB/1 T...</td>\n",
       "      <td>₹39,990</td>\n",
       "      <td>4.2</td>\n",
       "    </tr>\n",
       "    <tr>\n",
       "      <th>7</th>\n",
       "      <td>Acer Nitro 5 Core i7 9th Gen - (8 GB/1 TB HDD/...</td>\n",
       "      <td>₹69,990</td>\n",
       "      <td>4.6</td>\n",
       "    </tr>\n",
       "    <tr>\n",
       "      <th>8</th>\n",
       "      <td>Lenovo Ideapad 130 APU Dual Core A6 - (4 GB/1 ...</td>\n",
       "      <td>₹19,990</td>\n",
       "      <td>3.9</td>\n",
       "    </tr>\n",
       "    <tr>\n",
       "      <th>9</th>\n",
       "      <td>HP Pavilion 15-EC Ryzen 5 Quad Core - (8 GB/1 ...</td>\n",
       "      <td>₹56,990</td>\n",
       "      <td>4.5</td>\n",
       "    </tr>\n",
       "    <tr>\n",
       "      <th>10</th>\n",
       "      <td>HP 14q Core i5 8th Gen - (8 GB/1 TB HDD/Window...</td>\n",
       "      <td>₹41,990</td>\n",
       "      <td>4.3</td>\n",
       "    </tr>\n",
       "    <tr>\n",
       "      <th>11</th>\n",
       "      <td>Lenovo Ideapad 330 APU Dual Core A6 - (4 GB/1 ...</td>\n",
       "      <td>₹18,999</td>\n",
       "      <td>3.8</td>\n",
       "    </tr>\n",
       "    <tr>\n",
       "      <th>12</th>\n",
       "      <td>HP Pavilion 14-ce Core i5 10th Gen - (8 GB/512...</td>\n",
       "      <td>₹51,990</td>\n",
       "      <td>4.8</td>\n",
       "    </tr>\n",
       "    <tr>\n",
       "      <th>13</th>\n",
       "      <td>HP Pavilion x360 Core i3 8th Gen - (4 GB/256 G...</td>\n",
       "      <td>₹42,990</td>\n",
       "      <td>4.5</td>\n",
       "    </tr>\n",
       "    <tr>\n",
       "      <th>14</th>\n",
       "      <td>HP DA Core i3 7th Gen - (4 GB/1 TB HDD/Windows...</td>\n",
       "      <td>₹28,490</td>\n",
       "      <td>4.7</td>\n",
       "    </tr>\n",
       "    <tr>\n",
       "      <th>15</th>\n",
       "      <td>HP 14q APU Dual Core A9 - (4 GB/256 GB SSD/Win...</td>\n",
       "      <td>₹19,990</td>\n",
       "      <td>4.1</td>\n",
       "    </tr>\n",
       "    <tr>\n",
       "      <th>16</th>\n",
       "      <td>Acer Swift 3 Core i5 8th Gen - (8 GB/512 GB SS...</td>\n",
       "      <td>₹54,990</td>\n",
       "      <td>4.6</td>\n",
       "    </tr>\n",
       "    <tr>\n",
       "      <th>17</th>\n",
       "      <td>Acer Aspire 5 Core i3 8th Gen - (4 GB/1 TB HDD...</td>\n",
       "      <td>₹28,990</td>\n",
       "      <td>3.8</td>\n",
       "    </tr>\n",
       "    <tr>\n",
       "      <th>18</th>\n",
       "      <td>Lenovo Ideapad 330 Core i3 7th Gen - (8 GB/1 T...</td>\n",
       "      <td>₹31,490</td>\n",
       "      <td>4.1</td>\n",
       "    </tr>\n",
       "    <tr>\n",
       "      <th>19</th>\n",
       "      <td>Lenovo Core i7 8th Gen - (8 GB/1 TB HDD/Window...</td>\n",
       "      <td>₹49,990</td>\n",
       "      <td>4.1</td>\n",
       "    </tr>\n",
       "    <tr>\n",
       "      <th>20</th>\n",
       "      <td>Lenovo Ideapad 130 Core i3 7th Gen - (4 GB/1 T...</td>\n",
       "      <td>₹23,990</td>\n",
       "      <td>4</td>\n",
       "    </tr>\n",
       "    <tr>\n",
       "      <th>21</th>\n",
       "      <td>Lenovo Ideapad L340 Core i5 8th Gen - (8 GB/1 ...</td>\n",
       "      <td>₹37,990</td>\n",
       "      <td>4.1</td>\n",
       "    </tr>\n",
       "    <tr>\n",
       "      <th>22</th>\n",
       "      <td>Lenovo Ideapad 330 Core i3 7th Gen - (8 GB/1 T...</td>\n",
       "      <td>₹32,990</td>\n",
       "      <td>4.3</td>\n",
       "    </tr>\n",
       "    <tr>\n",
       "      <th>23</th>\n",
       "      <td>HP 15q Core i3 7th Gen - (4 GB/1 TB HDD/Window...</td>\n",
       "      <td>₹31,490</td>\n",
       "      <td>4.1</td>\n",
       "    </tr>\n",
       "  </tbody>\n",
       "</table>\n",
       "</div>"
      ],
      "text/plain": [
       "                                         Product Name    Price Rating\n",
       "0   Asus VivoBook S14 Core i7 8th Gen - (8 GB/1 TB...  ₹69,990    4.7\n",
       "1   Apple MacBook Air Core i5 5th Gen - (8 GB/128 ...  ₹64,990    4.7\n",
       "2   HP 14q Core i3 7th Gen - (8 GB/256 GB SSD/Wind...  ₹32,490    4.3\n",
       "3   Lenovo Ideapad 130 Core i3 7th Gen - (4 GB/1 T...  ₹25,990      4\n",
       "4   Asus VivoBook S14 Core i7 8th Gen - (8 GB/1 TB...  ₹69,990    4.7\n",
       "5   Dell Vostro 3000 Core i3 8th Gen - (4 GB/1 TB ...  ₹26,990    NaN\n",
       "6   Lenovo Ideapad 130 Core i5 8th Gen - (8 GB/1 T...  ₹39,990    4.2\n",
       "7   Acer Nitro 5 Core i7 9th Gen - (8 GB/1 TB HDD/...  ₹69,990    4.6\n",
       "8   Lenovo Ideapad 130 APU Dual Core A6 - (4 GB/1 ...  ₹19,990    3.9\n",
       "9   HP Pavilion 15-EC Ryzen 5 Quad Core - (8 GB/1 ...  ₹56,990    4.5\n",
       "10  HP 14q Core i5 8th Gen - (8 GB/1 TB HDD/Window...  ₹41,990    4.3\n",
       "11  Lenovo Ideapad 330 APU Dual Core A6 - (4 GB/1 ...  ₹18,999    3.8\n",
       "12  HP Pavilion 14-ce Core i5 10th Gen - (8 GB/512...  ₹51,990    4.8\n",
       "13  HP Pavilion x360 Core i3 8th Gen - (4 GB/256 G...  ₹42,990    4.5\n",
       "14  HP DA Core i3 7th Gen - (4 GB/1 TB HDD/Windows...  ₹28,490    4.7\n",
       "15  HP 14q APU Dual Core A9 - (4 GB/256 GB SSD/Win...  ₹19,990    4.1\n",
       "16  Acer Swift 3 Core i5 8th Gen - (8 GB/512 GB SS...  ₹54,990    4.6\n",
       "17  Acer Aspire 5 Core i3 8th Gen - (4 GB/1 TB HDD...  ₹28,990    3.8\n",
       "18  Lenovo Ideapad 330 Core i3 7th Gen - (8 GB/1 T...  ₹31,490    4.1\n",
       "19  Lenovo Core i7 8th Gen - (8 GB/1 TB HDD/Window...  ₹49,990    4.1\n",
       "20  Lenovo Ideapad 130 Core i3 7th Gen - (4 GB/1 T...  ₹23,990      4\n",
       "21  Lenovo Ideapad L340 Core i5 8th Gen - (8 GB/1 ...  ₹37,990    4.1\n",
       "22  Lenovo Ideapad 330 Core i3 7th Gen - (8 GB/1 T...  ₹32,990    4.3\n",
       "23  HP 15q Core i3 7th Gen - (4 GB/1 TB HDD/Window...  ₹31,490    4.1"
      ]
     },
     "execution_count": 12,
     "metadata": {},
     "output_type": "execute_result"
    }
   ],
   "source": [
    "df = pd.DataFrame({'Product Name':products,'Price':prices,'Rating':ratings}) \n",
    "df"
   ]
  },
  {
   "cell_type": "code",
   "execution_count": 13,
   "metadata": {},
   "outputs": [],
   "source": [
    "df.to_csv('products.csv', index=False)"
   ]
  },
  {
   "cell_type": "code",
   "execution_count": null,
   "metadata": {},
   "outputs": [],
   "source": []
  }
 ],
 "metadata": {
  "kernelspec": {
   "display_name": "Python [conda env:tf] *",
   "language": "python",
   "name": "conda-env-tf-py"
  },
  "language_info": {
   "codemirror_mode": {
    "name": "ipython",
    "version": 3
   },
   "file_extension": ".py",
   "mimetype": "text/x-python",
   "name": "python",
   "nbconvert_exporter": "python",
   "pygments_lexer": "ipython3",
   "version": "3.7.4"
  }
 },
 "nbformat": 4,
 "nbformat_minor": 2
}
